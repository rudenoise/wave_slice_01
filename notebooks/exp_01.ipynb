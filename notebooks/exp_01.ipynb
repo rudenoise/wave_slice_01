{
 "cells": [
  {
   "cell_type": "markdown",
   "id": "b5057c18-6936-4451-96c6-e4fdae8d1a02",
   "metadata": {},
   "source": [
    "# Wave slicing experiments 01"
   ]
  },
  {
   "cell_type": "code",
   "execution_count": 2,
   "id": "f9c892a9-c659-4be9-b040-fb069826e50b",
   "metadata": {},
   "outputs": [],
   "source": [
    "# make suer the module path includes wave_slicer\n",
    "import os\n",
    "import sys\n",
    "module_path = os.path.abspath(os.path.join('..'))\n",
    "if module_path not in sys.path:\n",
    "    sys.path.append(module_path)"
   ]
  },
  {
   "cell_type": "code",
   "execution_count": 10,
   "id": "7a2f0426-a4b9-4475-9306-6aa434b9a2c6",
   "metadata": {},
   "outputs": [],
   "source": [
    "# imports\n",
    "import librosa\n",
    "from wave_slice.io import fresh_setup, read_to_rosa, write_file\n",
    "from wave_slice.proc import norm, regularise, separate_at_zero_crossings\n"
   ]
  },
  {
   "cell_type": "code",
   "execution_count": 7,
   "id": "2af421d4-4d32-4e53-af68-e5d2ef84cba7",
   "metadata": {},
   "outputs": [],
   "source": [
    "sample_rate = 48000\n",
    "\n",
    "wav_files_dir_path = \"../wav_files\"\n",
    "# name the files\n",
    "bass_file = \"2020-06-12-BG\"\n",
    "sub_file = \"2020-06-12-SerumSUB\"\n",
    "\n",
    "bass_file = f\"{wav_files_dir_path}/in/{bass_file}.wav\"\n",
    "sub_file = f\"{wav_files_dir_path}/in/{sub_file}.wav\"\n",
    "\n",
    "# load them using librosa\n",
    "bass_file = read_to_rosa(bass_file, sample_rate)\n",
    "sub_file = read_to_rosa(sub_file, sample_rate)"
   ]
  },
  {
   "cell_type": "code",
   "execution_count": 12,
   "id": "761a432d-8bc0-48ab-a854-d94f7e19c5e5",
   "metadata": {},
   "outputs": [
    {
     "ename": "IndexError",
     "evalue": "tuple index out of range",
     "output_type": "error",
     "traceback": [
      "\u001b[0;31m---------------------------------------------------------------------------\u001b[0m",
      "\u001b[0;31mIndexError\u001b[0m                                Traceback (most recent call last)",
      "Cell \u001b[0;32mIn[12], line 1\u001b[0m\n\u001b[0;32m----> 1\u001b[0m \u001b[43mlibrosa\u001b[49m\u001b[38;5;241;43m.\u001b[39;49m\u001b[43mdisplay\u001b[49m\u001b[38;5;241;43m.\u001b[39;49m\u001b[43mspecshow\u001b[49m\u001b[43m(\u001b[49m\u001b[43mbass_file\u001b[49m\u001b[43m)\u001b[49m\n",
      "File \u001b[0;32m/opt/conda/lib/python3.11/site-packages/librosa/display.py:1211\u001b[0m, in \u001b[0;36mspecshow\u001b[0;34m(data, x_coords, y_coords, x_axis, y_axis, sr, hop_length, n_fft, win_length, fmin, fmax, tuning, bins_per_octave, key, Sa, mela, thaat, auto_aspect, htk, unicode, intervals, unison, ax, **kwargs)\u001b[0m\n\u001b[1;32m   1209\u001b[0m \u001b[38;5;66;03m# Get the x and y coordinates\u001b[39;00m\n\u001b[1;32m   1210\u001b[0m y_coords \u001b[38;5;241m=\u001b[39m __mesh_coords(y_axis, y_coords, data\u001b[38;5;241m.\u001b[39mshape[\u001b[38;5;241m0\u001b[39m], \u001b[38;5;241m*\u001b[39m\u001b[38;5;241m*\u001b[39mall_params)\n\u001b[0;32m-> 1211\u001b[0m x_coords \u001b[38;5;241m=\u001b[39m __mesh_coords(x_axis, x_coords, \u001b[43mdata\u001b[49m\u001b[38;5;241;43m.\u001b[39;49m\u001b[43mshape\u001b[49m\u001b[43m[\u001b[49m\u001b[38;5;241;43m1\u001b[39;49m\u001b[43m]\u001b[49m, \u001b[38;5;241m*\u001b[39m\u001b[38;5;241m*\u001b[39mall_params)\n\u001b[1;32m   1213\u001b[0m axes \u001b[38;5;241m=\u001b[39m __check_axes(ax)\n\u001b[1;32m   1215\u001b[0m out \u001b[38;5;241m=\u001b[39m axes\u001b[38;5;241m.\u001b[39mpcolormesh(x_coords, y_coords, data, \u001b[38;5;241m*\u001b[39m\u001b[38;5;241m*\u001b[39mkwargs)\n",
      "\u001b[0;31mIndexError\u001b[0m: tuple index out of range"
     ]
    }
   ],
   "source": [
    "librosa.display.sshow(bass_file)"
   ]
  }
 ],
 "metadata": {
  "kernelspec": {
   "display_name": "Python 3 (ipykernel)",
   "language": "python",
   "name": "python3"
  },
  "language_info": {
   "codemirror_mode": {
    "name": "ipython",
    "version": 3
   },
   "file_extension": ".py",
   "mimetype": "text/x-python",
   "name": "python",
   "nbconvert_exporter": "python",
   "pygments_lexer": "ipython3",
   "version": "3.11.4"
  }
 },
 "nbformat": 4,
 "nbformat_minor": 5
}
